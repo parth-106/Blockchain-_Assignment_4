{
 "cells": [
  {
   "cell_type": "code",
   "execution_count": 1,
   "metadata": {},
   "outputs": [
    {
     "name": "stdout",
     "output_type": "stream",
     "text": [
      "Collecting dict-hash\n",
      "  Downloading https://files.pythonhosted.org/packages/bb/45/8dc033776b156537b51bfa6dcdb345a35d39a652d29070a01370ecdb14c6/dict_hash-1.1.14.tar.gz\n",
      "Collecting deflate_dict>=1.0.8 (from dict-hash)\n",
      "  Downloading https://files.pythonhosted.org/packages/45/4c/75453c0d46b4f6782f076837dddd91120de6b904f1fcac1db02f84d63eb5/deflate_dict-1.0.8.tar.gz\n",
      "Building wheels for collected packages: dict-hash, deflate-dict\n",
      "  Building wheel for dict-hash (setup.py): started\n",
      "  Building wheel for dict-hash (setup.py): finished with status 'done'\n",
      "  Created wheel for dict-hash: filename=dict_hash-1.1.14-cp37-none-any.whl size=5714 sha256=817587b051b46d7507ef229cdbe36345e758a07ac90b382d840a89dd0239ed0a\n",
      "  Stored in directory: C:\\Users\\Admin\\AppData\\Local\\pip\\Cache\\wheels\\e8\\89\\fc\\e8662313dfa3b8f823e731130b85dbc06f6de3644fd649aafd\n",
      "  Building wheel for deflate-dict (setup.py): started\n",
      "  Building wheel for deflate-dict (setup.py): finished with status 'done'\n",
      "  Created wheel for deflate-dict: filename=deflate_dict-1.0.8-cp37-none-any.whl size=6309 sha256=51e745dfd9788720d19c32f68f208696ec8273d84c71cd9a20cfb7b417335694\n",
      "  Stored in directory: C:\\Users\\Admin\\AppData\\Local\\pip\\Cache\\wheels\\73\\b2\\c3\\59bcd52b3b25da8c4c45df79336531ba0c68c536e6391eaa25\n",
      "Successfully built dict-hash deflate-dict\n",
      "Installing collected packages: deflate-dict, dict-hash\n",
      "Successfully installed deflate-dict-1.0.8 dict-hash-1.1.14\n"
     ]
    }
   ],
   "source": [
    "!pip install dict-hash"
   ]
  },
  {
   "cell_type": "code",
   "execution_count": 6,
   "metadata": {},
   "outputs": [],
   "source": [
    "from IPython.display import clear_output\n",
    "from dict_hash import sha256\n",
    "import time"
   ]
  },
  {
   "cell_type": "code",
   "execution_count": 60,
   "metadata": {},
   "outputs": [],
   "source": [
    "def mineBlock(ditBlock):\n",
    "    flag = True\n",
    "    nonce = 0\n",
    "    start = time.time()\n",
    "    while flag:\n",
    "        dit['nonce'] = nonce\n",
    "        hsh = sha256(ditBlock)\n",
    "        pos1 = hsh[0]\n",
    "        pos2 = hsh[1]\n",
    "        pos3 = hsh[2]\n",
    "        pos4 = hsh[3]\n",
    "        pos5 = hsh[4]\n",
    "        pos6 = hsh[5]\n",
    "        pos7 = hsh[6]\n",
    "        pos8 = hsh[7]\n",
    "        pos9 = hsh[8]\n",
    "        pos10 = hsh[9]\n",
    "        pos11 = hsh[10]\n",
    "        \n",
    "        if pos1 == '0' and pos2 == '0' and pos3 == '0' and pos4 == '0' and pos5 == '0' and pos6 == '0' and pos7 == '0' and pos8 == '0' and pos9 == '0' and pos10 == '0':\n",
    "            flag = False\n",
    "            dit['hash'] = hsh\n",
    "            print(ditBlock)\n",
    "            end = time.time()\n",
    "            print(f\"Runtime of the program is {end - start}\")\n",
    "        else:\n",
    "            print(nonce)\n",
    "            clear_output(wait=True)\n",
    "            nonce = nonce + 1"
   ]
  },
  {
   "cell_type": "code",
   "execution_count": 61,
   "metadata": {},
   "outputs": [],
   "source": [
    "dit = {}\n",
    "dit['Block Number'] = 1\n",
    "dit['Trxns'] = 'Record1 Record2 Record3 Record4 Record5 Record6 Record7 Record8 Record9 Record10'\n",
    "dit['nonce'] = 0\n",
    "dit['previousHash'] = \"\""
   ]
  },
  {
   "cell_type": "code",
   "execution_count": 62,
   "metadata": {},
   "outputs": [
    {
     "data": {
      "text/plain": [
       "{'Block Number': 1,\n",
       " 'Trxns': 'Record1 Record2 Record3 Record4 Record5 Record6 Record7 Record8 Record9 Record10',\n",
       " 'nonce': 0,\n",
       " 'previousHash': '',\n",
       " 'hash': '210b5b60a88c40e6cd8a271bcaea30e1dff4d0297bb65404ce1cf2c43e6db3e8'}"
      ]
     },
     "execution_count": 62,
     "metadata": {},
     "output_type": "execute_result"
    }
   ],
   "source": [
    "dit['hash'] = sha256(dit)\n",
    "dit"
   ]
  },
  {
   "cell_type": "code",
   "execution_count": null,
   "metadata": {},
   "outputs": [
    {
     "name": "stdout",
     "output_type": "stream",
     "text": [
      "430782\n"
     ]
    }
   ],
   "source": [
    "mineBlock(dit)"
   ]
  },
  {
   "cell_type": "code",
   "execution_count": null,
   "metadata": {},
   "outputs": [],
   "source": []
  }
 ],
 "metadata": {
  "kernelspec": {
   "display_name": "Python 3",
   "language": "python",
   "name": "python3"
  },
  "language_info": {
   "codemirror_mode": {
    "name": "ipython",
    "version": 3
   },
   "file_extension": ".py",
   "mimetype": "text/x-python",
   "name": "python",
   "nbconvert_exporter": "python",
   "pygments_lexer": "ipython3",
   "version": "3.7.4"
  }
 },
 "nbformat": 4,
 "nbformat_minor": 2
}
